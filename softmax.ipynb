{
 "cells": [
  {
   "cell_type": "markdown",
   "metadata": {
    "tags": [
     "pdf-title"
    ]
   },
   "source": [
    "# Softmax exercise\n",
    "\n",
    "*Complete and hand in this completed worksheet (including its outputs and any supporting code outside of the worksheet) with your assignment submission. For more details see the [assignments page](http://vision.stanford.edu/teaching/cs231n/assignments.html) on the course website.*\n",
    "\n",
    "This exercise is analogous to the SVM exercise. You will:\n",
    "\n",
    "- implement a fully-vectorized **loss function** for the Softmax classifier\n",
    "- implement the fully-vectorized expression for its **analytic gradient**\n",
    "- **check your implementation** with numerical gradient\n",
    "- use a validation set to **tune the learning rate and regularization** strength\n",
    "- **optimize** the loss function with **SGD**\n",
    "- **visualize** the final learned weights\n"
   ]
  },
  {
   "cell_type": "code",
   "execution_count": 2,
   "metadata": {
    "tags": [
     "pdf-ignore"
    ]
   },
   "outputs": [],
   "source": [
    "import random\n",
    "import numpy as np\n",
    "from cs231n.data_utils import load_CIFAR10\n",
    "import matplotlib.pyplot as plt\n",
    "\n",
    "%matplotlib inline\n",
    "plt.rcParams['figure.figsize'] = (10.0, 8.0) # set default size of plots\n",
    "plt.rcParams['image.interpolation'] = 'nearest'\n",
    "plt.rcParams['image.cmap'] = 'gray'\n",
    "\n",
    "# for auto-reloading extenrnal modules\n",
    "# see http://stackoverflow.com/questions/1907993/autoreload-of-modules-in-ipython\n",
    "%load_ext autoreload\n",
    "%autoreload 2"
   ]
  },
  {
   "cell_type": "code",
   "execution_count": 3,
   "metadata": {
    "tags": [
     "pdf-ignore"
    ]
   },
   "outputs": [
    {
     "name": "stdout",
     "output_type": "stream",
     "text": [
      "Train data shape:  (49000, 3073)\n",
      "Train labels shape:  (49000,)\n",
      "Validation data shape:  (1000, 3073)\n",
      "Validation labels shape:  (1000,)\n",
      "Test data shape:  (1000, 3073)\n",
      "Test labels shape:  (1000,)\n",
      "dev data shape:  (500, 3073)\n",
      "dev labels shape:  (500,)\n"
     ]
    }
   ],
   "source": [
    "def get_CIFAR10_data(num_training=49000, num_validation=1000, num_test=1000, num_dev=500):\n",
    "    \"\"\"\n",
    "    Load the CIFAR-10 dataset from disk and perform preprocessing to prepare\n",
    "    it for the linear classifier. These are the same steps as we used for the\n",
    "    SVM, but condensed to a single function.  \n",
    "    \"\"\"\n",
    "    # Load the raw CIFAR-10 data\n",
    "    cifar10_dir = 'cs231n/datasets/cifar-10-batches-py'\n",
    "    \n",
    "    # Cleaning up variables to prevent loading data multiple times (which may cause memory issue)\n",
    "    try:\n",
    "       del X_train, y_train\n",
    "       del X_test, y_test\n",
    "       print('Clear previously loaded data.')\n",
    "    except:\n",
    "       pass\n",
    "\n",
    "    X_train, y_train, X_test, y_test = load_CIFAR10(cifar10_dir)\n",
    "    \n",
    "    # subsample the data\n",
    "    mask = list(range(num_training, num_training + num_validation))\n",
    "    X_val = X_train[mask]\n",
    "    y_val = y_train[mask]\n",
    "    mask = list(range(num_training))\n",
    "    X_train = X_train[mask]\n",
    "    y_train = y_train[mask]\n",
    "    mask = list(range(num_test))\n",
    "    X_test = X_test[mask]\n",
    "    y_test = y_test[mask]\n",
    "    mask = np.random.choice(num_training, num_dev, replace=False)\n",
    "    X_dev = X_train[mask]\n",
    "    y_dev = y_train[mask]\n",
    "    \n",
    "    # Preprocessing: reshape the image data into rows\n",
    "    X_train = np.reshape(X_train, (X_train.shape[0], -1))\n",
    "    X_val = np.reshape(X_val, (X_val.shape[0], -1))\n",
    "    X_test = np.reshape(X_test, (X_test.shape[0], -1))\n",
    "    X_dev = np.reshape(X_dev, (X_dev.shape[0], -1))\n",
    "    \n",
    "    # Normalize the data: subtract the mean image\n",
    "    mean_image = np.mean(X_train, axis = 0)\n",
    "    X_train -= mean_image\n",
    "    X_val -= mean_image\n",
    "    X_test -= mean_image\n",
    "    X_dev -= mean_image\n",
    "    \n",
    "    # add bias dimension and transform into columns\n",
    "    X_train = np.hstack([X_train, np.ones((X_train.shape[0], 1))])\n",
    "    X_val = np.hstack([X_val, np.ones((X_val.shape[0], 1))])\n",
    "    X_test = np.hstack([X_test, np.ones((X_test.shape[0], 1))])\n",
    "    X_dev = np.hstack([X_dev, np.ones((X_dev.shape[0], 1))])\n",
    "    \n",
    "    return X_train, y_train, X_val, y_val, X_test, y_test, X_dev, y_dev\n",
    "\n",
    "\n",
    "# Invoke the above function to get our data.\n",
    "X_train, y_train, X_val, y_val, X_test, y_test, X_dev, y_dev = get_CIFAR10_data()\n",
    "print('Train data shape: ', X_train.shape)\n",
    "print('Train labels shape: ', y_train.shape)\n",
    "print('Validation data shape: ', X_val.shape)\n",
    "print('Validation labels shape: ', y_val.shape)\n",
    "print('Test data shape: ', X_test.shape)\n",
    "print('Test labels shape: ', y_test.shape)\n",
    "print('dev data shape: ', X_dev.shape)\n",
    "print('dev labels shape: ', y_dev.shape)"
   ]
  },
  {
   "cell_type": "markdown",
   "metadata": {},
   "source": [
    "## Softmax Classifier\n",
    "\n",
    "Your code for this section will all be written inside **cs231n/classifiers/softmax.py**. \n"
   ]
  },
  {
   "cell_type": "code",
   "execution_count": 27,
   "metadata": {},
   "outputs": [
    {
     "name": "stdout",
     "output_type": "stream",
     "text": [
      "loss: 2.364741\n",
      "sanity check: 2.302585\n"
     ]
    }
   ],
   "source": [
    "# First implement the naive softmax loss function with nested loops.\n",
    "# Open the file cs231n/classifiers/softmax.py and implement the\n",
    "# softmax_loss_naive function.\n",
    "\n",
    "from cs231n.classifiers.softmax import softmax_loss_naive\n",
    "import time\n",
    "\n",
    "# Generate a random softmax weight matrix and use it to compute the loss.\n",
    "W = np.random.randn(3073, 10) * 0.0001\n",
    "loss, grad = softmax_loss_naive(W, X_dev, y_dev, 0.0)\n",
    "\n",
    "# As a rough sanity check, our loss should be something close to -log(0.1).\n",
    "print('loss: %f' % loss)\n",
    "print('sanity check: %f' % (-np.log(0.1)))"
   ]
  },
  {
   "cell_type": "markdown",
   "metadata": {
    "tags": [
     "pdf-inline"
    ]
   },
   "source": [
    "**Inline Question 1**\n",
    "\n",
    "Why do we expect our loss to be close to -log(0.1)? Explain briefly.**\n",
    "\n",
    "$\\color{blue}{\\textit Your Answer:}$ As the weights are random then first forward propagation would return random scores. And the average Softmax ratio would be around 1/C, where C is number of classes. In our case C is 10 therefore the loss should be close to -log(0.1) \n",
    "\n"
   ]
  },
  {
   "cell_type": "code",
   "execution_count": 45,
   "metadata": {},
   "outputs": [
    {
     "name": "stdout",
     "output_type": "stream",
     "text": [
      "numerical: 2.605796 analytic: 2.605796, relative error: 1.452958e-08\n",
      "numerical: -0.663865 analytic: -0.663865, relative error: 3.882965e-08\n",
      "numerical: 2.652263 analytic: 2.652262, relative error: 1.320868e-08\n",
      "numerical: -0.185880 analytic: -0.185880, relative error: 3.598489e-07\n",
      "numerical: -0.439068 analytic: -0.439069, relative error: 7.440565e-08\n",
      "numerical: 0.888963 analytic: 0.888963, relative error: 3.194163e-09\n",
      "numerical: -0.524002 analytic: -0.524002, relative error: 2.371144e-08\n",
      "numerical: 1.142736 analytic: 1.142736, relative error: 4.890232e-08\n",
      "numerical: -1.244401 analytic: -1.244402, relative error: 2.686919e-08\n",
      "numerical: 0.109349 analytic: 0.109349, relative error: 1.973828e-07\n",
      "numerical: 0.214560 analytic: 0.214560, relative error: 1.679529e-07\n",
      "numerical: -0.175132 analytic: -0.175132, relative error: 1.293486e-07\n",
      "numerical: -2.668338 analytic: -2.668338, relative error: 3.351432e-08\n",
      "numerical: -1.153473 analytic: -1.153473, relative error: 4.527981e-08\n",
      "numerical: -5.402478 analytic: -5.402478, relative error: 8.638388e-09\n",
      "numerical: 0.482949 analytic: 0.482949, relative error: 1.408925e-07\n",
      "numerical: 2.527265 analytic: 2.527265, relative error: 1.268286e-08\n",
      "numerical: 0.107972 analytic: 0.107972, relative error: 3.459353e-07\n",
      "numerical: 0.820016 analytic: 0.820016, relative error: 9.323963e-08\n",
      "numerical: -0.388409 analytic: -0.388409, relative error: 1.168542e-07\n"
     ]
    }
   ],
   "source": [
    "# Complete the implementation of softmax_loss_naive and implement a (naive)\n",
    "# version of the gradient that uses nested loops.\n",
    "loss, grad = softmax_loss_naive(W, X_dev, y_dev, 0.0)\n",
    "\n",
    "# As we did for the SVM, use numeric gradient checking as a debugging tool.\n",
    "# The numeric gradient should be close to the analytic gradient.\n",
    "from cs231n.gradient_check import grad_check_sparse\n",
    "f = lambda w: softmax_loss_naive(w, X_dev, y_dev, 0.0)[0]\n",
    "grad_numerical = grad_check_sparse(f, W, grad, 10)\n",
    "\n",
    "# similar to SVM case, do another gradient check with regularization\n",
    "loss, grad = softmax_loss_naive(W, X_dev, y_dev, 5e1)\n",
    "f = lambda w: softmax_loss_naive(w, X_dev, y_dev, 5e1)[0]\n",
    "grad_numerical = grad_check_sparse(f, W, grad, 10)"
   ]
  },
  {
   "cell_type": "code",
   "execution_count": 63,
   "metadata": {},
   "outputs": [
    {
     "name": "stdout",
     "output_type": "stream",
     "text": [
      "naive loss: 2.364751e+00 computed in 0.141997s\n",
      "vectorized loss: 2.364751e+00 computed in 0.011624s\n",
      "Loss difference: 0.000000\n",
      "Gradient difference: 0.000000\n"
     ]
    }
   ],
   "source": [
    "# Now that we have a naive implementation of the softmax loss function and its gradient,\n",
    "# implement a vectorized version in softmax_loss_vectorized.\n",
    "# The two versions should compute the same results, but the vectorized version should be\n",
    "# much faster.\n",
    "tic = time.time()\n",
    "loss_naive, grad_naive = softmax_loss_naive(W, X_dev, y_dev, 0.000005)\n",
    "toc = time.time()\n",
    "print('naive loss: %e computed in %fs' % (loss_naive, toc - tic))\n",
    "\n",
    "from cs231n.classifiers.softmax import softmax_loss_vectorized\n",
    "tic = time.time()\n",
    "loss_vectorized, grad_vectorized = softmax_loss_vectorized(W, X_dev, y_dev, 0.000005)\n",
    "toc = time.time()\n",
    "print('vectorized loss: %e computed in %fs' % (loss_vectorized, toc - tic))\n",
    "\n",
    "# As we did for the SVM, we use the Frobenius norm to compare the two versions\n",
    "# of the gradient.\n",
    "grad_difference = np.linalg.norm(grad_naive - grad_vectorized, ord='fro')\n",
    "print('Loss difference: %f' % np.abs(loss_naive - loss_vectorized))\n",
    "print('Gradient difference: %f' % grad_difference)"
   ]
  },
  {
   "cell_type": "code",
   "execution_count": 67,
   "metadata": {
    "tags": [
     "code"
    ]
   },
   "outputs": [
    {
     "name": "stdout",
     "output_type": "stream",
     "text": [
      "iteration 0 / 1500: loss 767.004903\n",
      "iteration 100 / 1500: loss 281.669985\n",
      "iteration 200 / 1500: loss 104.295268\n",
      "iteration 300 / 1500: loss 39.546161\n",
      "iteration 400 / 1500: loss 15.776215\n",
      "iteration 500 / 1500: loss 7.078317\n",
      "iteration 600 / 1500: loss 3.861984\n",
      "iteration 700 / 1500: loss 2.788052\n",
      "iteration 800 / 1500: loss 2.312367\n",
      "iteration 900 / 1500: loss 2.209840\n",
      "iteration 1000 / 1500: loss 2.135089\n",
      "iteration 1100 / 1500: loss 2.149711\n",
      "iteration 1200 / 1500: loss 2.073598\n",
      "iteration 1300 / 1500: loss 2.093469\n",
      "iteration 1400 / 1500: loss 2.089696\n",
      "iteration 0 / 1500: loss 1539.931687\n",
      "iteration 100 / 1500: loss 207.430184\n",
      "iteration 200 / 1500: loss 29.531490\n",
      "iteration 300 / 1500: loss 5.796394\n",
      "iteration 400 / 1500: loss 2.624091\n",
      "iteration 500 / 1500: loss 2.228126\n",
      "iteration 600 / 1500: loss 2.203836\n",
      "iteration 700 / 1500: loss 2.165254\n",
      "iteration 800 / 1500: loss 2.092117\n",
      "iteration 900 / 1500: loss 2.154651\n",
      "iteration 1000 / 1500: loss 2.123123\n",
      "iteration 1100 / 1500: loss 2.109135\n",
      "iteration 1200 / 1500: loss 2.115333\n",
      "iteration 1300 / 1500: loss 2.112181\n",
      "iteration 1400 / 1500: loss 2.153562\n",
      "iteration 0 / 1500: loss 466.755302\n",
      "iteration 100 / 1500: loss 255.300059\n",
      "iteration 200 / 1500: loss 140.620605\n",
      "iteration 300 / 1500: loss 77.824462\n",
      "iteration 400 / 1500: loss 43.538495\n",
      "iteration 500 / 1500: loss 24.697949\n",
      "iteration 600 / 1500: loss 14.457694\n",
      "iteration 700 / 1500: loss 8.788658\n",
      "iteration 800 / 1500: loss 5.792458\n",
      "iteration 900 / 1500: loss 4.074891\n",
      "iteration 1000 / 1500: loss 3.122493\n",
      "iteration 1100 / 1500: loss 2.614331\n",
      "iteration 1200 / 1500: loss 2.372810\n",
      "iteration 1300 / 1500: loss 2.239576\n",
      "iteration 1400 / 1500: loss 2.089131\n",
      "iteration 0 / 1500: loss 771.536359\n",
      "iteration 100 / 1500: loss 467.035498\n",
      "iteration 200 / 1500: loss 283.237453\n",
      "iteration 300 / 1500: loss 172.478347\n",
      "iteration 400 / 1500: loss 105.096557\n",
      "iteration 500 / 1500: loss 64.425651\n",
      "iteration 600 / 1500: loss 39.868776\n",
      "iteration 700 / 1500: loss 25.020366\n",
      "iteration 800 / 1500: loss 15.938366\n",
      "iteration 900 / 1500: loss 10.517086\n",
      "iteration 1000 / 1500: loss 7.218068\n",
      "iteration 1100 / 1500: loss 5.191751\n",
      "iteration 1200 / 1500: loss 3.919848\n",
      "iteration 1300 / 1500: loss 3.241791\n",
      "iteration 1400 / 1500: loss 2.814772\n",
      "iteration 0 / 1500: loss 1527.329877\n",
      "iteration 100 / 1500: loss 560.918148\n",
      "iteration 200 / 1500: loss 206.836238\n",
      "iteration 300 / 1500: loss 77.070427\n",
      "iteration 400 / 1500: loss 29.652478\n",
      "iteration 500 / 1500: loss 12.246912\n",
      "iteration 600 / 1500: loss 5.779462\n",
      "iteration 700 / 1500: loss 3.470890\n",
      "iteration 800 / 1500: loss 2.630245\n",
      "iteration 900 / 1500: loss 2.330015\n",
      "iteration 1000 / 1500: loss 2.243425\n",
      "iteration 1100 / 1500: loss 2.186332\n",
      "iteration 1200 / 1500: loss 2.156220\n",
      "iteration 1300 / 1500: loss 2.123141\n",
      "iteration 1400 / 1500: loss 2.167117\n",
      "iteration 0 / 1500: loss 463.584536\n",
      "iteration 100 / 1500: loss 343.195862\n",
      "iteration 200 / 1500: loss 254.120583\n",
      "iteration 300 / 1500: loss 188.627507\n",
      "iteration 400 / 1500: loss 139.800656\n",
      "iteration 500 / 1500: loss 104.026199\n",
      "iteration 600 / 1500: loss 77.481831\n",
      "iteration 700 / 1500: loss 57.838595\n",
      "iteration 800 / 1500: loss 43.280016\n",
      "iteration 900 / 1500: loss 32.548064\n",
      "iteration 1000 / 1500: loss 24.577727\n",
      "iteration 1100 / 1500: loss 18.735519\n",
      "iteration 1200 / 1500: loss 14.457814\n",
      "iteration 1300 / 1500: loss 11.227318\n",
      "iteration 1400 / 1500: loss 8.826717\n",
      "lr 5.000000e-08 reg 1.500000e+04 train accuracy: 0.321102 val accuracy: 0.334000\n",
      "lr 5.000000e-08 reg 2.500000e+04 train accuracy: 0.326082 val accuracy: 0.339000\n",
      "lr 5.000000e-08 reg 5.000000e+04 train accuracy: 0.308980 val accuracy: 0.328000\n",
      "lr 1.000000e-07 reg 1.500000e+04 train accuracy: 0.345449 val accuracy: 0.359000\n",
      "lr 1.000000e-07 reg 2.500000e+04 train accuracy: 0.328224 val accuracy: 0.340000\n",
      "lr 1.000000e-07 reg 5.000000e+04 train accuracy: 0.303388 val accuracy: 0.312000\n",
      "best validation accuracy achieved during cross-validation: 0.359000\n"
     ]
    }
   ],
   "source": [
    "# Use the validation set to tune hyperparameters (regularization strength and\n",
    "# learning rate). You should experiment with different ranges for the learning\n",
    "# rates and regularization strengths; if you are careful you should be able to\n",
    "# get a classification accuracy of over 0.35 on the validation set.\n",
    "from cs231n.classifiers import Softmax\n",
    "results = {}\n",
    "best_val = -1\n",
    "best_softmax = None\n",
    "learning_rates = [1e-7, 5e-8]\n",
    "regularization_strengths = [2.5e4, 5e4, 1.5e4]\n",
    "\n",
    "################################################################################\n",
    "# TODO:                                                                        #\n",
    "# Use the validation set to set the learning rate and regularization strength. #\n",
    "# This should be identical to the validation that you did for the SVM; save    #\n",
    "# the best trained softmax classifer in best_softmax.                          #\n",
    "################################################################################\n",
    "# *****START OF YOUR CODE (DO NOT DELETE/MODIFY THIS LINE)*****\n",
    "\n",
    "softmaxes = {}\n",
    "for lr in learning_rates:\n",
    "    for rs in regularization_strengths:\n",
    "        softmax = Softmax()\n",
    "        softmax.train(X_train, y_train, learning_rate=lr, reg=rs,\n",
    "                      num_iters=1500, verbose=True)\n",
    "        y_train_pred = softmax.predict(X_train)\n",
    "        y_val_pred = softmax.predict(X_val)\n",
    "        results[(lr,rs)] = (np.mean(y_train == y_train_pred), np.mean(y_val == y_val_pred))\n",
    "        softmaxes[(lr,rs)] = softmax\n",
    "        softmax = None\n",
    "        y_train_pred = None\n",
    "        y_val_pred = None\n",
    "\n",
    "# *****END OF YOUR CODE (DO NOT DELETE/MODIFY THIS LINE)*****\n",
    "    \n",
    "# Print out results.\n",
    "for lr, reg in sorted(results):\n",
    "    train_accuracy, val_accuracy = results[(lr, reg)]\n",
    "    if best_val<val_accuracy:\n",
    "        best_val = val_accuracy\n",
    "        best_softmax = softmaxes[(lr, reg)]\n",
    "    print('lr %e reg %e train accuracy: %f val accuracy: %f' % (\n",
    "                lr, reg, train_accuracy, val_accuracy))\n",
    "    \n",
    "print('best validation accuracy achieved during cross-validation: %f' % best_val)"
   ]
  },
  {
   "cell_type": "code",
   "execution_count": 68,
   "metadata": {},
   "outputs": [
    {
     "name": "stdout",
     "output_type": "stream",
     "text": [
      "softmax on raw pixels final test set accuracy: 0.359000\n"
     ]
    }
   ],
   "source": [
    "# evaluate on test set\n",
    "# Evaluate the best softmax on test set\n",
    "y_test_pred = best_softmax.predict(X_test)\n",
    "test_accuracy = np.mean(y_test == y_test_pred)\n",
    "print('softmax on raw pixels final test set accuracy: %f' % (test_accuracy, ))"
   ]
  },
  {
   "cell_type": "markdown",
   "metadata": {
    "tags": [
     "pdf-inline"
    ]
   },
   "source": [
    "**Inline Question 2** - *True or False*\n",
    "\n",
    "Suppose the overall training loss is defined as the sum of the per-datapoint loss over all training examples. It is possible to add a new datapoint to a training set that would leave the SVM loss unchanged, but this is not the case with the Softmax classifier loss.\n",
    "\n",
    "$\\color{blue}{\\textit Your Answer:}$\n",
    "Yes\n",
    "\n",
    "\n",
    "$\\color{blue}{\\textit Your Explanation:}$\n",
    "Because SVM cares about a difference of 1 between correct class score and all the other scores and therefore the loss is zero for the training datapoint which meet this condition. Iti s possible to add a datapoint with zero loss for SVM. However the loss function for Softmax is never zero therefore adding a datapoint will add to the total loss.\n",
    "\n"
   ]
  },
  {
   "cell_type": "code",
   "execution_count": 69,
   "metadata": {},
   "outputs": [
    {
     "data": {
      "image/png": "[encoded data removed]",
      "text/plain": [
       "<Figure size 1000x800 with 10 Axes>"
      ]
     },
     "metadata": {},
     "output_type": "display_data"
    }
   ],
   "source": [
    "# Visualize the learned weights for each class\n",
    "w = best_softmax.W[:-1,:] # strip out the bias\n",
    "w = w.reshape(32, 32, 3, 10)\n",
    "\n",
    "w_min, w_max = np.min(w), np.max(w)\n",
    "\n",
    "classes = ['plane', 'car', 'bird', 'cat', 'deer', 'dog', 'frog', 'horse', 'ship', 'truck']\n",
    "for i in range(10):\n",
    "    plt.subplot(2, 5, i + 1)\n",
    "    \n",
    "    # Rescale the weights to be between 0 and 255\n",
    "    wimg = 255.0 * (w[:, :, :, i].squeeze() - w_min) / (w_max - w_min)\n",
    "    plt.imshow(wimg.astype('uint8'))\n",
    "    plt.axis('off')\n",
    "    plt.title(classes[i])"
   ]
  },
  {
   "cell_type": "code",
   "execution_count": null,
   "metadata": {},
   "outputs": [],
   "source": []
  }
 ],
 "metadata": {
  "kernelspec": {
   "display_name": "Python 3 (ipykernel)",
   "language": "python",
   "name": "python3"
  },
  "language_info": {
   "codemirror_mode": {
    "name": "ipython",
    "version": 3
   },
   "file_extension": ".py",
   "mimetype": "text/x-python",
   "name": "python",
   "nbconvert_exporter": "python",
   "pygments_lexer": "ipython3",
   "version": "3.10.9"
  }
 },
 "nbformat": 4,
 "nbformat_minor": 4
}
